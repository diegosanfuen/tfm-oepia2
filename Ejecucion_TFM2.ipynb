{
  "cells": [
    {
      "cell_type": "markdown",
      "metadata": {
        "id": "view-in-github",
        "colab_type": "text"
      },
      "source": [
        "<a href=\"https://colab.research.google.com/github/diegosanfuen/tfm-oepia2/blob/main/Ejecucion_TFM2.ipynb\" target=\"_parent\"><img src=\"https://colab.research.google.com/assets/colab-badge.svg\" alt=\"Open In Colab\"/></a>"
      ]
    },
    {
      "cell_type": "markdown",
      "metadata": {
        "id": "eIPjUm0lXVPY"
      },
      "source": []
    },
    {
      "cell_type": "code",
      "execution_count": 8,
      "metadata": {
        "colab": {
          "base_uri": "https://localhost:8080/"
        },
        "id": "Fo3KCL1mMULv",
        "outputId": "98e8e4ff-4d23-4481-84a2-d0f8f7503266"
      },
      "outputs": [
        {
          "output_type": "stream",
          "name": "stdout",
          "text": [
            "Cloning into 'tfm-oepia2'...\n",
            "remote: Enumerating objects: 672, done.\u001b[K\n",
            "remote: Counting objects: 100% (212/212), done.\u001b[K\n",
            "remote: Compressing objects: 100% (138/138), done.\u001b[K\n",
            "remote: Total 672 (delta 172), reused 106 (delta 73), pack-reused 460\u001b[K\n",
            "Receiving objects: 100% (672/672), 34.19 MiB | 13.60 MiB/s, done.\n",
            "Resolving deltas: 100% (580/580), done.\n"
          ]
        }
      ],
      "source": [
        "import os\n",
        "!rm -Rf /content/tfm-oepia2\n",
        "!git clone https://github.com/diegosanfuen/tfm-oepia2.git"
      ]
    },
    {
      "cell_type": "code",
      "execution_count": 5,
      "metadata": {
        "colab": {
          "base_uri": "https://localhost:8080/"
        },
        "id": "t5frlzafNq54",
        "outputId": "dd10b239-f58f-44be-be68-d045e62b0326"
      },
      "outputs": [
        {
          "output_type": "stream",
          "name": "stdout",
          "text": [
            "Mounted at /content/drive\n"
          ]
        }
      ],
      "source": [
        "# Carga de datos desde Google Drive\n",
        "from google.colab import drive\n",
        "drive.mount('/content/drive')"
      ]
    },
    {
      "cell_type": "code",
      "execution_count": 9,
      "metadata": {
        "id": "H6fQxrU3b4S2"
      },
      "outputs": [],
      "source": [
        "!chmod 775 /content/tfm-oepia2/scripts/*"
      ]
    },
    {
      "cell_type": "code",
      "execution_count": 10,
      "metadata": {
        "colab": {
          "base_uri": "https://localhost:8080/"
        },
        "id": "rQZ5DnoGabf6",
        "outputId": "7581c0af-e8d1-4c13-92de-2ad3dbf9f039"
      },
      "outputs": [
        {
          "output_type": "stream",
          "name": "stdout",
          "text": [
            "Requirement already satisfied: langchain==0.2.1 in /usr/local/lib/python3.10/dist-packages (from -r /content/tfm-oepia2/scripts/requirements.txt (line 1)) (0.2.1)\n",
            "Requirement already satisfied: langchain-community==0.2.1 in /usr/local/lib/python3.10/dist-packages (from -r /content/tfm-oepia2/scripts/requirements.txt (line 2)) (0.2.1)\n",
            "Requirement already satisfied: langchain-core==0.2.3 in /usr/local/lib/python3.10/dist-packages (from -r /content/tfm-oepia2/scripts/requirements.txt (line 3)) (0.2.3)\n",
            "Requirement already satisfied: langchain-text-splitters==0.2.0 in /usr/local/lib/python3.10/dist-packages (from -r /content/tfm-oepia2/scripts/requirements.txt (line 4)) (0.2.0)\n",
            "Requirement already satisfied: langchainhub==0.1.17 in /usr/local/lib/python3.10/dist-packages (from -r /content/tfm-oepia2/scripts/requirements.txt (line 5)) (0.1.17)\n",
            "Requirement already satisfied: faiss-gpu==1.7.2 in /usr/local/lib/python3.10/dist-packages (from -r /content/tfm-oepia2/scripts/requirements.txt (line 6)) (1.7.2)\n",
            "Requirement already satisfied: python-dotenv==1.0.1 in /usr/local/lib/python3.10/dist-packages (from -r /content/tfm-oepia2/scripts/requirements.txt (line 7)) (1.0.1)\n",
            "Requirement already satisfied: gradio==4.32.0 in /usr/local/lib/python3.10/dist-packages (from -r /content/tfm-oepia2/scripts/requirements.txt (line 8)) (4.32.0)\n",
            "Requirement already satisfied: gradio_client==0.17.0 in /usr/local/lib/python3.10/dist-packages (from -r /content/tfm-oepia2/scripts/requirements.txt (line 9)) (0.17.0)\n",
            "Requirement already satisfied: pdfplumber==0.11.0 in /usr/local/lib/python3.10/dist-packages (from -r /content/tfm-oepia2/scripts/requirements.txt (line 11)) (0.11.0)\n",
            "Requirement already satisfied: sumy==0.11.0 in /usr/local/lib/python3.10/dist-packages (from -r /content/tfm-oepia2/scripts/requirements.txt (line 12)) (0.11.0)\n",
            "Requirement already satisfied: pytest==8.2.2 in /usr/local/lib/python3.10/dist-packages (from -r /content/tfm-oepia2/scripts/requirements.txt (line 13)) (8.2.2)\n",
            "Requirement already satisfied: PyYAML>=5.3 in /usr/local/lib/python3.10/dist-packages (from langchain==0.2.1->-r /content/tfm-oepia2/scripts/requirements.txt (line 1)) (6.0.1)\n",
            "Requirement already satisfied: SQLAlchemy<3,>=1.4 in /usr/local/lib/python3.10/dist-packages (from langchain==0.2.1->-r /content/tfm-oepia2/scripts/requirements.txt (line 1)) (2.0.31)\n",
            "Requirement already satisfied: aiohttp<4.0.0,>=3.8.3 in /usr/local/lib/python3.10/dist-packages (from langchain==0.2.1->-r /content/tfm-oepia2/scripts/requirements.txt (line 1)) (3.9.5)\n",
            "Requirement already satisfied: async-timeout<5.0.0,>=4.0.0 in /usr/local/lib/python3.10/dist-packages (from langchain==0.2.1->-r /content/tfm-oepia2/scripts/requirements.txt (line 1)) (4.0.3)\n",
            "Requirement already satisfied: langsmith<0.2.0,>=0.1.17 in /usr/local/lib/python3.10/dist-packages (from langchain==0.2.1->-r /content/tfm-oepia2/scripts/requirements.txt (line 1)) (0.1.82)\n",
            "Requirement already satisfied: numpy<2,>=1 in /usr/local/lib/python3.10/dist-packages (from langchain==0.2.1->-r /content/tfm-oepia2/scripts/requirements.txt (line 1)) (1.25.2)\n",
            "Requirement already satisfied: pydantic<3,>=1 in /usr/local/lib/python3.10/dist-packages (from langchain==0.2.1->-r /content/tfm-oepia2/scripts/requirements.txt (line 1)) (2.7.4)\n",
            "Requirement already satisfied: requests<3,>=2 in /usr/local/lib/python3.10/dist-packages (from langchain==0.2.1->-r /content/tfm-oepia2/scripts/requirements.txt (line 1)) (2.31.0)\n",
            "Requirement already satisfied: tenacity<9.0.0,>=8.1.0 in /usr/local/lib/python3.10/dist-packages (from langchain==0.2.1->-r /content/tfm-oepia2/scripts/requirements.txt (line 1)) (8.4.1)\n",
            "Requirement already satisfied: dataclasses-json<0.7,>=0.5.7 in /usr/local/lib/python3.10/dist-packages (from langchain-community==0.2.1->-r /content/tfm-oepia2/scripts/requirements.txt (line 2)) (0.6.7)\n",
            "Requirement already satisfied: jsonpatch<2.0,>=1.33 in /usr/local/lib/python3.10/dist-packages (from langchain-core==0.2.3->-r /content/tfm-oepia2/scripts/requirements.txt (line 3)) (1.33)\n",
            "Requirement already satisfied: packaging<24.0,>=23.2 in /usr/local/lib/python3.10/dist-packages (from langchain-core==0.2.3->-r /content/tfm-oepia2/scripts/requirements.txt (line 3)) (23.2)\n",
            "Requirement already satisfied: types-requests<3.0.0.0,>=2.31.0.2 in /usr/local/lib/python3.10/dist-packages (from langchainhub==0.1.17->-r /content/tfm-oepia2/scripts/requirements.txt (line 5)) (2.32.0.20240622)\n",
            "Requirement already satisfied: aiofiles<24.0,>=22.0 in /usr/local/lib/python3.10/dist-packages (from gradio==4.32.0->-r /content/tfm-oepia2/scripts/requirements.txt (line 8)) (23.2.1)\n",
            "Requirement already satisfied: altair<6.0,>=4.2.0 in /usr/local/lib/python3.10/dist-packages (from gradio==4.32.0->-r /content/tfm-oepia2/scripts/requirements.txt (line 8)) (4.2.2)\n",
            "Requirement already satisfied: fastapi in /usr/local/lib/python3.10/dist-packages (from gradio==4.32.0->-r /content/tfm-oepia2/scripts/requirements.txt (line 8)) (0.111.0)\n",
            "Requirement already satisfied: ffmpy in /usr/local/lib/python3.10/dist-packages (from gradio==4.32.0->-r /content/tfm-oepia2/scripts/requirements.txt (line 8)) (0.3.2)\n",
            "Requirement already satisfied: httpx>=0.24.1 in /usr/local/lib/python3.10/dist-packages (from gradio==4.32.0->-r /content/tfm-oepia2/scripts/requirements.txt (line 8)) (0.27.0)\n",
            "Requirement already satisfied: huggingface-hub>=0.19.3 in /usr/local/lib/python3.10/dist-packages (from gradio==4.32.0->-r /content/tfm-oepia2/scripts/requirements.txt (line 8)) (0.23.4)\n",
            "Requirement already satisfied: importlib-resources<7.0,>=1.3 in /usr/local/lib/python3.10/dist-packages (from gradio==4.32.0->-r /content/tfm-oepia2/scripts/requirements.txt (line 8)) (6.4.0)\n",
            "Requirement already satisfied: jinja2<4.0 in /usr/local/lib/python3.10/dist-packages (from gradio==4.32.0->-r /content/tfm-oepia2/scripts/requirements.txt (line 8)) (3.1.4)\n",
            "Requirement already satisfied: markupsafe~=2.0 in /usr/local/lib/python3.10/dist-packages (from gradio==4.32.0->-r /content/tfm-oepia2/scripts/requirements.txt (line 8)) (2.1.5)\n",
            "Requirement already satisfied: matplotlib~=3.0 in /usr/local/lib/python3.10/dist-packages (from gradio==4.32.0->-r /content/tfm-oepia2/scripts/requirements.txt (line 8)) (3.7.1)\n",
            "Requirement already satisfied: orjson~=3.0 in /usr/local/lib/python3.10/dist-packages (from gradio==4.32.0->-r /content/tfm-oepia2/scripts/requirements.txt (line 8)) (3.10.5)\n",
            "Requirement already satisfied: pandas<3.0,>=1.0 in /usr/local/lib/python3.10/dist-packages (from gradio==4.32.0->-r /content/tfm-oepia2/scripts/requirements.txt (line 8)) (2.0.3)\n",
            "Requirement already satisfied: pillow<11.0,>=8.0 in /usr/local/lib/python3.10/dist-packages (from gradio==4.32.0->-r /content/tfm-oepia2/scripts/requirements.txt (line 8)) (9.4.0)\n",
            "Requirement already satisfied: pydub in /usr/local/lib/python3.10/dist-packages (from gradio==4.32.0->-r /content/tfm-oepia2/scripts/requirements.txt (line 8)) (0.25.1)\n",
            "Requirement already satisfied: python-multipart>=0.0.9 in /usr/local/lib/python3.10/dist-packages (from gradio==4.32.0->-r /content/tfm-oepia2/scripts/requirements.txt (line 8)) (0.0.9)\n",
            "Requirement already satisfied: ruff>=0.2.2 in /usr/local/lib/python3.10/dist-packages (from gradio==4.32.0->-r /content/tfm-oepia2/scripts/requirements.txt (line 8)) (0.4.10)\n",
            "Requirement already satisfied: semantic-version~=2.0 in /usr/local/lib/python3.10/dist-packages (from gradio==4.32.0->-r /content/tfm-oepia2/scripts/requirements.txt (line 8)) (2.10.0)\n",
            "Requirement already satisfied: tomlkit==0.12.0 in /usr/local/lib/python3.10/dist-packages (from gradio==4.32.0->-r /content/tfm-oepia2/scripts/requirements.txt (line 8)) (0.12.0)\n",
            "Requirement already satisfied: typer<1.0,>=0.12 in /usr/local/lib/python3.10/dist-packages (from gradio==4.32.0->-r /content/tfm-oepia2/scripts/requirements.txt (line 8)) (0.12.3)\n",
            "Requirement already satisfied: typing-extensions~=4.0 in /usr/local/lib/python3.10/dist-packages (from gradio==4.32.0->-r /content/tfm-oepia2/scripts/requirements.txt (line 8)) (4.12.2)\n",
            "Requirement already satisfied: urllib3~=2.0 in /usr/local/lib/python3.10/dist-packages (from gradio==4.32.0->-r /content/tfm-oepia2/scripts/requirements.txt (line 8)) (2.0.7)\n",
            "Requirement already satisfied: uvicorn>=0.14.0 in /usr/local/lib/python3.10/dist-packages (from gradio==4.32.0->-r /content/tfm-oepia2/scripts/requirements.txt (line 8)) (0.30.1)\n",
            "Requirement already satisfied: fsspec in /usr/local/lib/python3.10/dist-packages (from gradio_client==0.17.0->-r /content/tfm-oepia2/scripts/requirements.txt (line 9)) (2023.6.0)\n",
            "Requirement already satisfied: websockets<12.0,>=10.0 in /usr/local/lib/python3.10/dist-packages (from gradio_client==0.17.0->-r /content/tfm-oepia2/scripts/requirements.txt (line 9)) (11.0.3)\n",
            "Requirement already satisfied: pdfminer.six==20231228 in /usr/local/lib/python3.10/dist-packages (from pdfplumber==0.11.0->-r /content/tfm-oepia2/scripts/requirements.txt (line 11)) (20231228)\n",
            "Requirement already satisfied: pypdfium2>=4.18.0 in /usr/local/lib/python3.10/dist-packages (from pdfplumber==0.11.0->-r /content/tfm-oepia2/scripts/requirements.txt (line 11)) (4.30.0)\n",
            "Requirement already satisfied: docopt<0.7,>=0.6.1 in /usr/local/lib/python3.10/dist-packages (from sumy==0.11.0->-r /content/tfm-oepia2/scripts/requirements.txt (line 12)) (0.6.2)\n",
            "Requirement already satisfied: breadability>=0.1.20 in /usr/local/lib/python3.10/dist-packages (from sumy==0.11.0->-r /content/tfm-oepia2/scripts/requirements.txt (line 12)) (0.1.20)\n",
            "Requirement already satisfied: pycountry>=18.2.23 in /usr/local/lib/python3.10/dist-packages (from sumy==0.11.0->-r /content/tfm-oepia2/scripts/requirements.txt (line 12)) (24.6.1)\n",
            "Requirement already satisfied: nltk>=3.0.2 in /usr/local/lib/python3.10/dist-packages (from sumy==0.11.0->-r /content/tfm-oepia2/scripts/requirements.txt (line 12)) (3.8.1)\n",
            "Requirement already satisfied: iniconfig in /usr/local/lib/python3.10/dist-packages (from pytest==8.2.2->-r /content/tfm-oepia2/scripts/requirements.txt (line 13)) (2.0.0)\n",
            "Requirement already satisfied: pluggy<2.0,>=1.5 in /usr/local/lib/python3.10/dist-packages (from pytest==8.2.2->-r /content/tfm-oepia2/scripts/requirements.txt (line 13)) (1.5.0)\n",
            "Requirement already satisfied: exceptiongroup>=1.0.0rc8 in /usr/local/lib/python3.10/dist-packages (from pytest==8.2.2->-r /content/tfm-oepia2/scripts/requirements.txt (line 13)) (1.2.1)\n",
            "Requirement already satisfied: tomli>=1 in /usr/local/lib/python3.10/dist-packages (from pytest==8.2.2->-r /content/tfm-oepia2/scripts/requirements.txt (line 13)) (2.0.1)\n",
            "Requirement already satisfied: charset-normalizer>=2.0.0 in /usr/local/lib/python3.10/dist-packages (from pdfminer.six==20231228->pdfplumber==0.11.0->-r /content/tfm-oepia2/scripts/requirements.txt (line 11)) (3.3.2)\n",
            "Requirement already satisfied: cryptography>=36.0.0 in /usr/local/lib/python3.10/dist-packages (from pdfminer.six==20231228->pdfplumber==0.11.0->-r /content/tfm-oepia2/scripts/requirements.txt (line 11)) (42.0.8)\n",
            "Requirement already satisfied: aiosignal>=1.1.2 in /usr/local/lib/python3.10/dist-packages (from aiohttp<4.0.0,>=3.8.3->langchain==0.2.1->-r /content/tfm-oepia2/scripts/requirements.txt (line 1)) (1.3.1)\n",
            "Requirement already satisfied: attrs>=17.3.0 in /usr/local/lib/python3.10/dist-packages (from aiohttp<4.0.0,>=3.8.3->langchain==0.2.1->-r /content/tfm-oepia2/scripts/requirements.txt (line 1)) (23.2.0)\n",
            "Requirement already satisfied: frozenlist>=1.1.1 in /usr/local/lib/python3.10/dist-packages (from aiohttp<4.0.0,>=3.8.3->langchain==0.2.1->-r /content/tfm-oepia2/scripts/requirements.txt (line 1)) (1.4.1)\n",
            "Requirement already satisfied: multidict<7.0,>=4.5 in /usr/local/lib/python3.10/dist-packages (from aiohttp<4.0.0,>=3.8.3->langchain==0.2.1->-r /content/tfm-oepia2/scripts/requirements.txt (line 1)) (6.0.5)\n",
            "Requirement already satisfied: yarl<2.0,>=1.0 in /usr/local/lib/python3.10/dist-packages (from aiohttp<4.0.0,>=3.8.3->langchain==0.2.1->-r /content/tfm-oepia2/scripts/requirements.txt (line 1)) (1.9.4)\n",
            "Requirement already satisfied: entrypoints in /usr/local/lib/python3.10/dist-packages (from altair<6.0,>=4.2.0->gradio==4.32.0->-r /content/tfm-oepia2/scripts/requirements.txt (line 8)) (0.4)\n",
            "Requirement already satisfied: jsonschema>=3.0 in /usr/local/lib/python3.10/dist-packages (from altair<6.0,>=4.2.0->gradio==4.32.0->-r /content/tfm-oepia2/scripts/requirements.txt (line 8)) (4.19.2)\n",
            "Requirement already satisfied: toolz in /usr/local/lib/python3.10/dist-packages (from altair<6.0,>=4.2.0->gradio==4.32.0->-r /content/tfm-oepia2/scripts/requirements.txt (line 8)) (0.12.1)\n",
            "Requirement already satisfied: chardet in /usr/local/lib/python3.10/dist-packages (from breadability>=0.1.20->sumy==0.11.0->-r /content/tfm-oepia2/scripts/requirements.txt (line 12)) (5.2.0)\n",
            "Requirement already satisfied: lxml>=2.0 in /usr/local/lib/python3.10/dist-packages (from breadability>=0.1.20->sumy==0.11.0->-r /content/tfm-oepia2/scripts/requirements.txt (line 12)) (4.9.4)\n",
            "Requirement already satisfied: marshmallow<4.0.0,>=3.18.0 in /usr/local/lib/python3.10/dist-packages (from dataclasses-json<0.7,>=0.5.7->langchain-community==0.2.1->-r /content/tfm-oepia2/scripts/requirements.txt (line 2)) (3.21.3)\n",
            "Requirement already satisfied: typing-inspect<1,>=0.4.0 in /usr/local/lib/python3.10/dist-packages (from dataclasses-json<0.7,>=0.5.7->langchain-community==0.2.1->-r /content/tfm-oepia2/scripts/requirements.txt (line 2)) (0.9.0)\n",
            "Requirement already satisfied: anyio in /usr/local/lib/python3.10/dist-packages (from httpx>=0.24.1->gradio==4.32.0->-r /content/tfm-oepia2/scripts/requirements.txt (line 8)) (3.7.1)\n",
            "Requirement already satisfied: certifi in /usr/local/lib/python3.10/dist-packages (from httpx>=0.24.1->gradio==4.32.0->-r /content/tfm-oepia2/scripts/requirements.txt (line 8)) (2024.6.2)\n",
            "Requirement already satisfied: httpcore==1.* in /usr/local/lib/python3.10/dist-packages (from httpx>=0.24.1->gradio==4.32.0->-r /content/tfm-oepia2/scripts/requirements.txt (line 8)) (1.0.5)\n",
            "Requirement already satisfied: idna in /usr/local/lib/python3.10/dist-packages (from httpx>=0.24.1->gradio==4.32.0->-r /content/tfm-oepia2/scripts/requirements.txt (line 8)) (3.7)\n",
            "Requirement already satisfied: sniffio in /usr/local/lib/python3.10/dist-packages (from httpx>=0.24.1->gradio==4.32.0->-r /content/tfm-oepia2/scripts/requirements.txt (line 8)) (1.3.1)\n",
            "Requirement already satisfied: h11<0.15,>=0.13 in /usr/local/lib/python3.10/dist-packages (from httpcore==1.*->httpx>=0.24.1->gradio==4.32.0->-r /content/tfm-oepia2/scripts/requirements.txt (line 8)) (0.14.0)\n",
            "Requirement already satisfied: filelock in /usr/local/lib/python3.10/dist-packages (from huggingface-hub>=0.19.3->gradio==4.32.0->-r /content/tfm-oepia2/scripts/requirements.txt (line 8)) (3.15.3)\n",
            "Requirement already satisfied: tqdm>=4.42.1 in /usr/local/lib/python3.10/dist-packages (from huggingface-hub>=0.19.3->gradio==4.32.0->-r /content/tfm-oepia2/scripts/requirements.txt (line 8)) (4.66.4)\n",
            "Requirement already satisfied: jsonpointer>=1.9 in /usr/local/lib/python3.10/dist-packages (from jsonpatch<2.0,>=1.33->langchain-core==0.2.3->-r /content/tfm-oepia2/scripts/requirements.txt (line 3)) (3.0.0)\n",
            "Requirement already satisfied: contourpy>=1.0.1 in /usr/local/lib/python3.10/dist-packages (from matplotlib~=3.0->gradio==4.32.0->-r /content/tfm-oepia2/scripts/requirements.txt (line 8)) (1.2.1)\n",
            "Requirement already satisfied: cycler>=0.10 in /usr/local/lib/python3.10/dist-packages (from matplotlib~=3.0->gradio==4.32.0->-r /content/tfm-oepia2/scripts/requirements.txt (line 8)) (0.12.1)\n",
            "Requirement already satisfied: fonttools>=4.22.0 in /usr/local/lib/python3.10/dist-packages (from matplotlib~=3.0->gradio==4.32.0->-r /content/tfm-oepia2/scripts/requirements.txt (line 8)) (4.53.0)\n",
            "Requirement already satisfied: kiwisolver>=1.0.1 in /usr/local/lib/python3.10/dist-packages (from matplotlib~=3.0->gradio==4.32.0->-r /content/tfm-oepia2/scripts/requirements.txt (line 8)) (1.4.5)\n",
            "Requirement already satisfied: pyparsing>=2.3.1 in /usr/local/lib/python3.10/dist-packages (from matplotlib~=3.0->gradio==4.32.0->-r /content/tfm-oepia2/scripts/requirements.txt (line 8)) (3.1.2)\n",
            "Requirement already satisfied: python-dateutil>=2.7 in /usr/local/lib/python3.10/dist-packages (from matplotlib~=3.0->gradio==4.32.0->-r /content/tfm-oepia2/scripts/requirements.txt (line 8)) (2.8.2)\n",
            "Requirement already satisfied: click in /usr/local/lib/python3.10/dist-packages (from nltk>=3.0.2->sumy==0.11.0->-r /content/tfm-oepia2/scripts/requirements.txt (line 12)) (8.1.7)\n",
            "Requirement already satisfied: joblib in /usr/local/lib/python3.10/dist-packages (from nltk>=3.0.2->sumy==0.11.0->-r /content/tfm-oepia2/scripts/requirements.txt (line 12)) (1.4.2)\n",
            "Requirement already satisfied: regex>=2021.8.3 in /usr/local/lib/python3.10/dist-packages (from nltk>=3.0.2->sumy==0.11.0->-r /content/tfm-oepia2/scripts/requirements.txt (line 12)) (2024.5.15)\n",
            "Requirement already satisfied: pytz>=2020.1 in /usr/local/lib/python3.10/dist-packages (from pandas<3.0,>=1.0->gradio==4.32.0->-r /content/tfm-oepia2/scripts/requirements.txt (line 8)) (2023.4)\n",
            "Requirement already satisfied: tzdata>=2022.1 in /usr/local/lib/python3.10/dist-packages (from pandas<3.0,>=1.0->gradio==4.32.0->-r /content/tfm-oepia2/scripts/requirements.txt (line 8)) (2024.1)\n",
            "Requirement already satisfied: annotated-types>=0.4.0 in /usr/local/lib/python3.10/dist-packages (from pydantic<3,>=1->langchain==0.2.1->-r /content/tfm-oepia2/scripts/requirements.txt (line 1)) (0.7.0)\n",
            "Requirement already satisfied: pydantic-core==2.18.4 in /usr/local/lib/python3.10/dist-packages (from pydantic<3,>=1->langchain==0.2.1->-r /content/tfm-oepia2/scripts/requirements.txt (line 1)) (2.18.4)\n",
            "Requirement already satisfied: greenlet!=0.4.17 in /usr/local/lib/python3.10/dist-packages (from SQLAlchemy<3,>=1.4->langchain==0.2.1->-r /content/tfm-oepia2/scripts/requirements.txt (line 1)) (3.0.3)\n",
            "Requirement already satisfied: shellingham>=1.3.0 in /usr/local/lib/python3.10/dist-packages (from typer<1.0,>=0.12->gradio==4.32.0->-r /content/tfm-oepia2/scripts/requirements.txt (line 8)) (1.5.4)\n",
            "Requirement already satisfied: rich>=10.11.0 in /usr/local/lib/python3.10/dist-packages (from typer<1.0,>=0.12->gradio==4.32.0->-r /content/tfm-oepia2/scripts/requirements.txt (line 8)) (13.7.1)\n",
            "Requirement already satisfied: starlette<0.38.0,>=0.37.2 in /usr/local/lib/python3.10/dist-packages (from fastapi->gradio==4.32.0->-r /content/tfm-oepia2/scripts/requirements.txt (line 8)) (0.37.2)\n",
            "Requirement already satisfied: fastapi-cli>=0.0.2 in /usr/local/lib/python3.10/dist-packages (from fastapi->gradio==4.32.0->-r /content/tfm-oepia2/scripts/requirements.txt (line 8)) (0.0.4)\n",
            "Requirement already satisfied: ujson!=4.0.2,!=4.1.0,!=4.2.0,!=4.3.0,!=5.0.0,!=5.1.0,>=4.0.1 in /usr/local/lib/python3.10/dist-packages (from fastapi->gradio==4.32.0->-r /content/tfm-oepia2/scripts/requirements.txt (line 8)) (5.10.0)\n",
            "Requirement already satisfied: email_validator>=2.0.0 in /usr/local/lib/python3.10/dist-packages (from fastapi->gradio==4.32.0->-r /content/tfm-oepia2/scripts/requirements.txt (line 8)) (2.2.0)\n",
            "Requirement already satisfied: cffi>=1.12 in /usr/local/lib/python3.10/dist-packages (from cryptography>=36.0.0->pdfminer.six==20231228->pdfplumber==0.11.0->-r /content/tfm-oepia2/scripts/requirements.txt (line 11)) (1.16.0)\n",
            "Requirement already satisfied: dnspython>=2.0.0 in /usr/local/lib/python3.10/dist-packages (from email_validator>=2.0.0->fastapi->gradio==4.32.0->-r /content/tfm-oepia2/scripts/requirements.txt (line 8)) (2.6.1)\n",
            "Requirement already satisfied: jsonschema-specifications>=2023.03.6 in /usr/local/lib/python3.10/dist-packages (from jsonschema>=3.0->altair<6.0,>=4.2.0->gradio==4.32.0->-r /content/tfm-oepia2/scripts/requirements.txt (line 8)) (2023.12.1)\n",
            "Requirement already satisfied: referencing>=0.28.4 in /usr/local/lib/python3.10/dist-packages (from jsonschema>=3.0->altair<6.0,>=4.2.0->gradio==4.32.0->-r /content/tfm-oepia2/scripts/requirements.txt (line 8)) (0.35.1)\n",
            "Requirement already satisfied: rpds-py>=0.7.1 in /usr/local/lib/python3.10/dist-packages (from jsonschema>=3.0->altair<6.0,>=4.2.0->gradio==4.32.0->-r /content/tfm-oepia2/scripts/requirements.txt (line 8)) (0.18.1)\n",
            "Requirement already satisfied: six>=1.5 in /usr/local/lib/python3.10/dist-packages (from python-dateutil>=2.7->matplotlib~=3.0->gradio==4.32.0->-r /content/tfm-oepia2/scripts/requirements.txt (line 8)) (1.16.0)\n",
            "Requirement already satisfied: markdown-it-py>=2.2.0 in /usr/local/lib/python3.10/dist-packages (from rich>=10.11.0->typer<1.0,>=0.12->gradio==4.32.0->-r /content/tfm-oepia2/scripts/requirements.txt (line 8)) (3.0.0)\n",
            "Requirement already satisfied: pygments<3.0.0,>=2.13.0 in /usr/local/lib/python3.10/dist-packages (from rich>=10.11.0->typer<1.0,>=0.12->gradio==4.32.0->-r /content/tfm-oepia2/scripts/requirements.txt (line 8)) (2.16.1)\n",
            "Requirement already satisfied: mypy-extensions>=0.3.0 in /usr/local/lib/python3.10/dist-packages (from typing-inspect<1,>=0.4.0->dataclasses-json<0.7,>=0.5.7->langchain-community==0.2.1->-r /content/tfm-oepia2/scripts/requirements.txt (line 2)) (1.0.0)\n",
            "Requirement already satisfied: httptools>=0.5.0 in /usr/local/lib/python3.10/dist-packages (from uvicorn>=0.14.0->gradio==4.32.0->-r /content/tfm-oepia2/scripts/requirements.txt (line 8)) (0.6.1)\n",
            "Requirement already satisfied: uvloop!=0.15.0,!=0.15.1,>=0.14.0 in /usr/local/lib/python3.10/dist-packages (from uvicorn>=0.14.0->gradio==4.32.0->-r /content/tfm-oepia2/scripts/requirements.txt (line 8)) (0.19.0)\n",
            "Requirement already satisfied: watchfiles>=0.13 in /usr/local/lib/python3.10/dist-packages (from uvicorn>=0.14.0->gradio==4.32.0->-r /content/tfm-oepia2/scripts/requirements.txt (line 8)) (0.22.0)\n",
            "Requirement already satisfied: pycparser in /usr/local/lib/python3.10/dist-packages (from cffi>=1.12->cryptography>=36.0.0->pdfminer.six==20231228->pdfplumber==0.11.0->-r /content/tfm-oepia2/scripts/requirements.txt (line 11)) (2.22)\n",
            "Requirement already satisfied: mdurl~=0.1 in /usr/local/lib/python3.10/dist-packages (from markdown-it-py>=2.2.0->rich>=10.11.0->typer<1.0,>=0.12->gradio==4.32.0->-r /content/tfm-oepia2/scripts/requirements.txt (line 8)) (0.1.2)\n"
          ]
        }
      ],
      "source": [
        "!/content/tfm-oepia2/scripts/instalar_requirements.sh"
      ]
    },
    {
      "cell_type": "code",
      "source": [
        "!/content/tfm-oepia2/scripts/despliegue_tests.py"
      ],
      "metadata": {
        "colab": {
          "base_uri": "https://localhost:8080/"
        },
        "id": "Y9wRzjLpUvRD",
        "outputId": "06022f2c-5bbb-44c3-df38-db2f2863dce2"
      },
      "execution_count": 11,
      "outputs": [
        {
          "output_type": "stream",
          "name": "stdout",
          "text": [
            "Ejecutamos tests\n",
            "\u001b[1m======================================= test session starts ========================================\u001b[0m\n",
            "platform linux -- Python 3.10.12, pytest-8.2.2, pluggy-1.5.0\n",
            "rootdir: /content\n",
            "plugins: anyio-3.7.1\n",
            "collected 8 items                                                                                  \u001b[0m\n",
            "\n",
            "tfm-oepia2/FaissOPEIA/test_FaissOEPIA.py \u001b[32m.\u001b[0m\u001b[32m                                                   [ 12%]\u001b[0m\n",
            "tfm-oepia2/OEPIA/test_oepia.py \u001b[32m.\u001b[0m\u001b[32m.\u001b[0m\u001b[32m.\u001b[0m\u001b[32m.\u001b[0m\u001b[32m.\u001b[0m\u001b[32m                                                         [ 75%]\u001b[0m\n",
            "tfm-oepia2/Sesiones/test_sesiones.py \u001b[32m.\u001b[0m\u001b[32m.\u001b[0m\u001b[32m                                                      [100%]\u001b[0m\n",
            "\n",
            "\u001b[32m======================================== \u001b[32m\u001b[1m8 passed\u001b[0m\u001b[32m in 4.63s\u001b[0m\u001b[32m =========================================\u001b[0m\n"
          ]
        }
      ]
    },
    {
      "cell_type": "code",
      "execution_count": null,
      "metadata": {
        "id": "xdCqbOLaN0vb"
      },
      "outputs": [],
      "source": [
        "!mkdir -p /content/tfm-oepia2/ObtencionDatos/datos/\n",
        "!mkdir -p /content/tfm-oepia2/FaissOPEIA/db\n",
        "!cp /content/drive/MyDrive/TFM15062024/tfm-oepia/ObtencionDatos/datos/* /content/tfm-oepia2/ObtencionDatos/datos/\n",
        "!cp /content/drive/MyDrive/TFM15062024/tfm-oepia/FaissOPEIA/db/* /content/tfm-oepia2/FaissOPEIA/db"
      ]
    },
    {
      "cell_type": "code",
      "execution_count": null,
      "metadata": {
        "colab": {
          "base_uri": "https://localhost:8080/"
        },
        "id": "340VkhnNBDbr",
        "outputId": "eb058d4f-821f-4986-aadf-18c381122909"
      },
      "outputs": [
        {
          "output_type": "stream",
          "name": "stdout",
          "text": [
            ">>> Downloading ollama...\n",
            "############################################################################################# 100.0%\n",
            ">>> Installing ollama to /usr/local/bin...\n",
            ">>> Creating ollama user...\n",
            ">>> Adding ollama user to video group...\n",
            ">>> Adding current user to ollama group...\n",
            ">>> Creating ollama systemd service...\n",
            "WARNING: Unable to detect NVIDIA/AMD GPU. Install lspci or lshw to automatically detect and install GPU dependencies.\n",
            ">>> The Ollama API is now available at 127.0.0.1:11434.\n",
            ">>> Install complete. Run \"ollama\" from the command line.\n",
            "/content/tfm-oepia2/scripts/instalar_ollama.sh: 13: seleep: not found\n",
            "nohup: appending output to 'nohup.out'\n",
            "Error: could not connect to ollama app, is it running?\n",
            "[nltk_data] Downloading package punkt to /root/nltk_data...\n",
            "[nltk_data]   Unzipping tokenizers/punkt.zip.\n",
            ">>> Downloading ollama...\n",
            "##############                                                                                 15.3%^C\n"
          ]
        }
      ],
      "source": [
        "!/content/tfm-oepia2/scripts/instalar_ollama.sh\n",
        "!sleep 5\n",
        "!/content/tfm-oepia2/scripts/instalar_ollama.sh"
      ]
    },
    {
      "cell_type": "code",
      "execution_count": null,
      "metadata": {
        "colab": {
          "base_uri": "https://localhost:8080/"
        },
        "id": "I5Q0Fo7ZLngF",
        "outputId": "67232b36-eecd-48fe-91a7-cfd730de1e9a"
      },
      "outputs": [
        {
          "output_type": "stream",
          "name": "stdout",
          "text": [
            "nohup: appending output to 'nohup.out'\n",
            "Running on local URL:  http://127.0.0.1:7860\n",
            "Running on public URL: https://edd06251c3040d4b22.gradio.live\n",
            "\n",
            "This share link expires in 72 hours. For free permanent hosting and GPU upgrades, run `gradio deploy` from Terminal to deploy to Spaces (https://huggingface.co/spaces)\n",
            "Keyboard interruption in main thread... closing server.\n",
            "Killing tunnel 127.0.0.1:7860 <> https://edd06251c3040d4b22.gradio.live\n",
            "^C\n"
          ]
        }
      ],
      "source": [
        "# Ejecutar el chatbot\n",
        "!nohup ollama serve &\n",
        "!/content/tfm-oepia2/scripts/ejecutar_chat_opeia.sh"
      ]
    },
    {
      "cell_type": "code",
      "execution_count": null,
      "metadata": {
        "id": "z7o7Oj-lzTyq"
      },
      "outputs": [],
      "source": [
        "!cp -R /content/tfm-oepia /content/drive/MyDrive/TFM15062024/"
      ]
    }
  ],
  "metadata": {
    "accelerator": "GPU",
    "colab": {
      "gpuType": "T4",
      "machine_shape": "hm",
      "provenance": [],
      "authorship_tag": "ABX9TyM75lqW9tTVxWSqMo87IZ22",
      "include_colab_link": true
    },
    "kernelspec": {
      "display_name": "Python 3",
      "name": "python3"
    },
    "language_info": {
      "name": "python"
    }
  },
  "nbformat": 4,
  "nbformat_minor": 0
}